{
 "cells": [
  {
   "cell_type": "code",
   "execution_count": 283,
   "id": "f4680dca-8a37-4e1a-b545-e7f9feee9d04",
   "metadata": {},
   "outputs": [],
   "source": [
    "import numpy as np\n",
    "import string\n",
    "from math import log, sqrt\n",
    "from bs4 import BeautifulSoup"
   ]
  },
  {
   "cell_type": "code",
   "execution_count": 369,
   "id": "4143c726-1db0-4036-9822-8fcbbeb206c4",
   "metadata": {},
   "outputs": [],
   "source": [
    "punct = string.punctuation + ' '"
   ]
  },
  {
   "cell_type": "code",
   "execution_count": 112,
   "id": "a0eeedae-8d17-4b39-bb4b-27641300b22b",
   "metadata": {},
   "outputs": [],
   "source": [
    "def contain_punctuation(text):\n",
    "    punctuation = [char for char in string.punctuation + ' ']\n",
    "    result = any(char in text for char in punctuation)\n",
    "    return result"
   ]
  },
  {
   "cell_type": "code",
   "execution_count": 131,
   "id": "9cce460f-470c-4787-b6e0-729f7fad1e20",
   "metadata": {},
   "outputs": [],
   "source": [
    "def normalise_tfs(tfs,total):\n",
    "    for k,v in tfs.items():\n",
    "        tfs[k] = v / total\n",
    "    return tfs"
   ]
  },
  {
   "cell_type": "code",
   "execution_count": 132,
   "id": "9146fc11-b9a7-432d-886e-4cab6c2eec1e",
   "metadata": {},
   "outputs": [],
   "source": [
    "def log_idfs(idfs, doc_num):\n",
    "    for k,v in idfs.items():\n",
    "        idfs[k] = log(doc_num / v)\n",
    "    return idfs"
   ]
  },
  {
   "cell_type": "code",
   "execution_count": 4,
   "id": "571c6e2b-6bdb-4d32-90f9-8cac8f80b191",
   "metadata": {},
   "outputs": [],
   "source": []
  },
  {
   "cell_type": "code",
   "execution_count": 7,
   "id": "d54ec3e4-b52a-48c2-9540-9c9cef524351",
   "metadata": {},
   "outputs": [],
   "source": [
    "category = 'Mass_media_by_country'"
   ]
  },
  {
   "cell_type": "code",
   "execution_count": 21,
   "id": "9a34f64f-8303-4cd7-bc2f-debae2bf4753",
   "metadata": {},
   "outputs": [],
   "source": [
    "def read_vocab():\n",
    "    with open('./data/vocab_file.txt','r') as f:\n",
    "        vocab = f.read().splitlines()\n",
    "    return vocab"
   ]
  },
  {
   "cell_type": "code",
   "execution_count": 23,
   "id": "68f1001c-d42a-4b19-8f87-3ba50faaa653",
   "metadata": {},
   "outputs": [],
   "source": [
    "vocab = read_vocab()"
   ]
  },
  {
   "cell_type": "code",
   "execution_count": 29,
   "id": "0f0280ad-c650-4a1a-8f46-56f26abda2e1",
   "metadata": {},
   "outputs": [],
   "source": [
    "vec = np.zeros(len(vocab))"
   ]
  },
  {
   "cell_type": "code",
   "execution_count": 33,
   "id": "b0105544-42fd-476e-9bb9-d5ea23a0cd57",
   "metadata": {},
   "outputs": [],
   "source": [
    "with open(f\"data/categories/{category}/linear.txt\") as f:\n",
    "    soup = BeautifulSoup(f, 'html.parser')"
   ]
  },
  {
   "cell_type": "code",
   "execution_count": 65,
   "id": "c46a6f6a-5341-4865-a34b-8f487af77506",
   "metadata": {},
   "outputs": [],
   "source": [
    "texts = []\n",
    "for doc in soup.find_all(\"doc\"):\n",
    "    texts.append(str(doc.contents[0]).strip().lower())"
   ]
  },
  {
   "cell_type": "code",
   "execution_count": 326,
   "id": "bad3a1eb-f893-4a41-a1e2-f2b76c469c38",
   "metadata": {},
   "outputs": [],
   "source": [
    "all_docs_tfs = []\n",
    "ns = [4, 5, 6]\n",
    "\n",
    "dfs = {}\n",
    "\n",
    "vector_list = []\n",
    "for text in texts:\n",
    "    one_doc_tfs = {}\n",
    "    sum_freq = 0\n",
    "    for n in ns:\n",
    "        for i in range(len(text) - n + 1):\n",
    "            ngram = text[i:i+n]\n",
    "            if not contain_punctuation(ngram):\n",
    "                sum_freq += 1\n",
    "                if ngram in one_doc_tfs:\n",
    "                    one_doc_tfs[ngram] += 1\n",
    "                else:\n",
    "                    one_doc_tfs[ngram] = 1\n",
    "    for ngram in one_doc_tfs.keys():\n",
    "        if ngram in dfs:\n",
    "            dfs[ngram] += 1\n",
    "        else:\n",
    "            dfs[ngram] = 1\n",
    "    one_doc_tfs = normalise_tfs(one_doc_tfs, sum_freq)\n",
    "    one_doc_vector = np.zeros(len(vocab))\n",
    "    for ngram, tf in one_doc_tfs.items():\n",
    "        if ngram in vocab:\n",
    "            position = vocab.index(ngram)\n",
    "            one_doc_vector[position] = tf\n",
    "    vector_list.append(one_doc_vector)\n",
    "    all_docs_tfs.append(one_doc_tfs) # TO DELETE\n",
    "    \n",
    "all_docs_matrix = np.vstack(vector_list)"
   ]
  },
  {
   "cell_type": "code",
   "execution_count": 327,
   "id": "8bacaf9b-f9fd-4524-bafa-1ad1a81c1757",
   "metadata": {},
   "outputs": [
    {
     "data": {
      "text/plain": [
       "(100, 1000)"
      ]
     },
     "execution_count": 327,
     "metadata": {},
     "output_type": "execute_result"
    }
   ],
   "source": [
    "all_docs_matrix.shape"
   ]
  },
  {
   "cell_type": "code",
   "execution_count": 335,
   "id": "a232fec1-ebfe-4077-924e-4aae7fe132df",
   "metadata": {},
   "outputs": [],
   "source": [
    "# "
   ]
  },
  {
   "cell_type": "code",
   "execution_count": 370,
   "id": "8b620501-84fc-42f9-b26c-d3c2a6b320cd",
   "metadata": {},
   "outputs": [],
   "source": [
    "# all_docs_matrix"
   ]
  },
  {
   "cell_type": "code",
   "execution_count": 338,
   "id": "431d8efa-5a8d-4510-b817-e0d21fb90f7c",
   "metadata": {},
   "outputs": [],
   "source": [
    "# idfs = log_idfs(dfs, len(texts))"
   ]
  },
  {
   "cell_type": "code",
   "execution_count": 339,
   "id": "1b7a0e55-9721-4420-b2f7-49181088fb66",
   "metadata": {},
   "outputs": [],
   "source": [
    "# tf_idfs_all_docs = {}\n",
    "# for i in range(len(all_docs_tfs)):\n",
    "#     for ngram, tf in all_docs_tfs[i].items():\n",
    "#         all_docs_tfs[i][ngram] = tf / idfs[ngram]\n",
    "#     tf_idfs_all_docs[i] = all_docs_tfs[i]"
   ]
  },
  {
   "cell_type": "code",
   "execution_count": 340,
   "id": "2c7f27bc-a875-4929-817d-735f01214b27",
   "metadata": {},
   "outputs": [],
   "source": [
    "# tf_idfs_all_docs"
   ]
  },
  {
   "cell_type": "code",
   "execution_count": 341,
   "id": "c8847a91-3bd7-4f03-95fc-706fbc06f762",
   "metadata": {
    "scrolled": true
   },
   "outputs": [],
   "source": [
    "# for doc_num, val in tf_idfs_all_docs.items():\n",
    "#     tf_idfs_all_docs[doc_num] = {k: (0 if k not in tf_idfs_all_docs[doc_num] else tf_idfs_all_docs[doc_num][k]) for k in vocab}"
   ]
  },
  {
   "cell_type": "code",
   "execution_count": 295,
   "id": "737c92eb-3acc-49a3-88a9-d2a1a155f75b",
   "metadata": {},
   "outputs": [
    {
     "data": {
      "text/plain": [
       "533"
      ]
     },
     "execution_count": 295,
     "metadata": {},
     "output_type": "execute_result"
    }
   ],
   "source": [
    "# vocab.index(ngram)"
   ]
  },
  {
   "cell_type": "code",
   "execution_count": 296,
   "id": "e5417f67-4369-4a4f-8d19-77f357173d35",
   "metadata": {
    "scrolled": true
   },
   "outputs": [],
   "source": []
  },
  {
   "cell_type": "code",
   "execution_count": 342,
   "id": "40ac5a53-a5c5-4db1-adb0-8818f3642565",
   "metadata": {},
   "outputs": [],
   "source": [
    "# vector[]"
   ]
  },
  {
   "cell_type": "markdown",
   "id": "efc5ac03-4a0f-4ea2-b4ec-07ac6553c32c",
   "metadata": {},
   "source": [
    "QUERY"
   ]
  },
  {
   "cell_type": "code",
   "execution_count": 282,
   "id": "82cceafb-58f1-4d48-bd28-4ec1be624bfc",
   "metadata": {},
   "outputs": [],
   "source": [
    "def cosine_similarity(v1, v2):\n",
    "    num = np.dot(v1, v2)\n",
    "    den_a = np.dot(v1, v1)\n",
    "    den_b = np.dot(v2, v2)\n",
    "    return num / (sqrt(den_a) * sqrt(den_b))"
   ]
  },
  {
   "cell_type": "code",
   "execution_count": 264,
   "id": "4bd5db21-e529-4981-970d-c48fe8d68099",
   "metadata": {},
   "outputs": [],
   "source": [
    "query = 'Best journalist'"
   ]
  },
  {
   "cell_type": "code",
   "execution_count": 300,
   "id": "6b56fe1d-47bf-4a6d-92a6-9402c4d22070",
   "metadata": {},
   "outputs": [],
   "source": [
    "ns = [4, 5, 6]\n",
    "query_tfs = {}\n",
    "sum_freq = 0\n",
    "for n in ns:\n",
    "    for i in range(len(query) - n + 1):\n",
    "        ngram = query[i:i+n]\n",
    "        if not contain_punctuation(ngram):\n",
    "            sum_freq += 1\n",
    "            if ngram in query_tfs:\n",
    "                query_tfs[ngram] += 1\n",
    "            else:\n",
    "                query_tfs[ngram] = 1\n",
    "            \n",
    "# for ngram in query_tfs.keys():\n",
    "#     if ngram in dfs:\n",
    "#         dfs[ngram] += 1\n",
    "#     else:\n",
    "#         dfs[ngram] = 1\n",
    "query_tfs = normalise_tfs(query_tfs, sum_freq)\n",
    "\n",
    "query_vector = np.zeros(len(vocab))\n",
    "for ngram, tf in query_tfs.items():\n",
    "    if ngram in vocab:\n",
    "        position = vocab.index(ngram)\n",
    "        query_vector[position] = tf"
   ]
  },
  {
   "cell_type": "code",
   "execution_count": 287,
   "id": "9b6826dd-ab1f-43d0-8eda-4f9ca67d1214",
   "metadata": {},
   "outputs": [],
   "source": [
    "# query_vector = {k: (0 if k not in query_tfs else query_tfs[k]) for k in vocab}"
   ]
  },
  {
   "cell_type": "code",
   "execution_count": 303,
   "id": "3120de66-b834-4da1-b15e-d8ad4216c49d",
   "metadata": {},
   "outputs": [
    {
     "data": {
      "text/plain": [
       "(1000,)"
      ]
     },
     "execution_count": 303,
     "metadata": {},
     "output_type": "execute_result"
    }
   ],
   "source": []
  },
  {
   "cell_type": "code",
   "execution_count": 343,
   "id": "192f4f6f-a210-4b7a-8f93-e9381eca640b",
   "metadata": {},
   "outputs": [],
   "source": [
    "cosines = {}"
   ]
  },
  {
   "cell_type": "code",
   "execution_count": 352,
   "id": "ae4fa5be-3a45-4e59-9207-cbf55d517e08",
   "metadata": {},
   "outputs": [],
   "source": [
    "# all_docs_matrix[1]"
   ]
  },
  {
   "cell_type": "code",
   "execution_count": 354,
   "id": "7c1276f4-b307-49fd-85fb-f432a4ed492d",
   "metadata": {},
   "outputs": [],
   "source": [
    "for i in range(all_docs_matrix.shape[0]):\n",
    "    cosines[i] = cosine_similarity(all_docs_matrix[i], query_vector)"
   ]
  },
  {
   "cell_type": "code",
   "execution_count": 355,
   "id": "ce1ca6a9-1fac-4d32-b576-d77759fafa3d",
   "metadata": {},
   "outputs": [],
   "source": [
    "# for doc, vector in tf_idfs_all_docs.items():\n",
    "#     cosines[doc] = cosine_similarity(vector, query_vector)"
   ]
  },
  {
   "cell_type": "code",
   "execution_count": 371,
   "id": "d60080e3-a14f-4e32-b87c-5c953b4e1840",
   "metadata": {
    "scrolled": true
   },
   "outputs": [
    {
     "name": "stdout",
     "output_type": "stream",
     "text": [
      "84 0.7343880736345254\n",
      "11 0.5503953220024497\n",
      "78 0.46709936649691386\n",
      "77 0.3721042037676253\n",
      "16 0.3123475237772122\n",
      "7 0.29704426289300234\n",
      "66 0.2929250497068538\n",
      "32 0.2927700218845598\n",
      "21 0.25542034272564035\n",
      "55 0.24150785200073951\n",
      "36 0.23942606534028663\n",
      "67 0.2280857763809116\n",
      "87 0.2095290887308734\n",
      "91 0.20751433915982245\n",
      "48 0.20158105227158796\n",
      "57 0.20064308847628198\n",
      "98 0.18534061896456466\n",
      "27 0.1538967528127731\n",
      "82 0.07712413556379123\n",
      "35 0.03874921291460643\n",
      "0 0.0\n",
      "1 0.0\n",
      "2 0.0\n",
      "3 0.0\n",
      "4 0.0\n",
      "5 0.0\n",
      "6 0.0\n",
      "8 0.0\n",
      "9 0.0\n",
      "10 0.0\n",
      "12 0.0\n",
      "13 0.0\n",
      "14 0.0\n",
      "15 0.0\n",
      "17 0.0\n",
      "18 0.0\n",
      "19 0.0\n",
      "20 0.0\n",
      "22 0.0\n",
      "23 0.0\n",
      "24 0.0\n",
      "25 0.0\n",
      "26 0.0\n",
      "28 0.0\n",
      "29 0.0\n",
      "30 0.0\n",
      "31 0.0\n",
      "33 0.0\n",
      "34 0.0\n",
      "37 0.0\n",
      "38 0.0\n",
      "39 0.0\n",
      "40 0.0\n",
      "41 0.0\n",
      "42 0.0\n",
      "43 0.0\n",
      "44 0.0\n",
      "45 0.0\n",
      "46 0.0\n",
      "47 0.0\n",
      "49 0.0\n",
      "50 0.0\n",
      "51 0.0\n",
      "52 0.0\n",
      "53 0.0\n",
      "54 0.0\n",
      "56 0.0\n",
      "58 0.0\n",
      "59 0.0\n",
      "60 0.0\n",
      "61 0.0\n",
      "62 0.0\n",
      "63 0.0\n",
      "64 0.0\n",
      "65 0.0\n",
      "68 0.0\n",
      "69 0.0\n",
      "70 0.0\n",
      "71 0.0\n",
      "72 0.0\n",
      "73 0.0\n",
      "74 0.0\n",
      "75 0.0\n",
      "76 0.0\n",
      "79 0.0\n",
      "80 0.0\n",
      "81 0.0\n",
      "83 0.0\n",
      "85 0.0\n",
      "86 0.0\n",
      "88 0.0\n",
      "89 0.0\n",
      "90 0.0\n",
      "92 0.0\n",
      "93 0.0\n",
      "94 0.0\n",
      "95 0.0\n",
      "96 0.0\n",
      "97 0.0\n",
      "99 0.0\n"
     ]
    }
   ],
   "source": [
    "for doc in sorted(cosines, key=cosines.get, reverse=True):\n",
    "    print(doc, cosines[doc])\n",
    "    # print(texts[doc], '\\n\\n')"
   ]
  },
  {
   "cell_type": "code",
   "execution_count": 373,
   "id": "0b3c9ead-5587-4ab6-b857-c68c3ef0afe4",
   "metadata": {},
   "outputs": [
    {
     "data": {
      "text/plain": [
       "84"
      ]
     },
     "execution_count": 373,
     "metadata": {},
     "output_type": "execute_result"
    }
   ],
   "source": [
    "sorted(cosines, key=cosines.get, reverse=True)[0]"
   ]
  },
  {
   "cell_type": "code",
   "execution_count": 364,
   "id": "23ad20f1-6655-4afd-be52-832dfb3b54d1",
   "metadata": {},
   "outputs": [
    {
     "data": {
      "text/plain": [
       "'the mass media in belarus are mass-media outlets based in belarus. television, magazines, and newspapers are operated by state-owned and for-profit corporations and depend on advertising, subscriptions, and other sales-related revenue. the constitution of belarus guarantees freedom of speech, but this is contradicted in practice by repressive and restrictive laws. arbitrary detention, arrests, and harassment of journalists are frequent in belarus. anti-extremism legislation targets independent journalism, including material considered unfavourable to the president.'"
      ]
     },
     "execution_count": 364,
     "metadata": {},
     "output_type": "execute_result"
    }
   ],
   "source": [
    "texts[11]"
   ]
  },
  {
   "cell_type": "code",
   "execution_count": null,
   "id": "b4a05903-cc6b-4ac3-a3e2-662233c95877",
   "metadata": {},
   "outputs": [],
   "source": []
  }
 ],
 "metadata": {
  "kernelspec": {
   "display_name": "Python 3 (ipykernel)",
   "language": "python",
   "name": "python3"
  },
  "language_info": {
   "codemirror_mode": {
    "name": "ipython",
    "version": 3
   },
   "file_extension": ".py",
   "mimetype": "text/x-python",
   "name": "python",
   "nbconvert_exporter": "python",
   "pygments_lexer": "ipython3",
   "version": "3.10.11"
  }
 },
 "nbformat": 4,
 "nbformat_minor": 5
}
